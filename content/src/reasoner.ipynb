{
 "cells": [
  {
   "cell_type": "code",
   "execution_count": 12,
   "metadata": {},
   "outputs": [
    {
     "name": "stdout",
     "output_type": "stream",
     "text": [
      "The autoreload extension is already loaded. To reload it, use:\n",
      "  %reload_ext autoreload\n"
     ]
    }
   ],
   "source": [
    "%load_ext autoreload\n",
    "%autoreload 2\n",
    "from models import load_model\n",
    "model = load_model(\"mistral_sm_24b\")"
   ]
  },
  {
   "cell_type": "code",
   "execution_count": 17,
   "metadata": {},
   "outputs": [
    {
     "name": "stdout",
     "output_type": "stream",
     "text": [
      "To solve this problem, we need to integrate the function \\( f(x) = 2x^2 + 32x \\) from 0 to 123.\n",
      "\n",
      "The integral of a polynomial can be found using standard integration rules. Let's break it down step-by-step:\n",
      "\n",
      "### Step 1: Write Down the Integral\n",
      "We start with:\n",
      "\\[ \\int_{0}^{123} (2x^2 + 32x) \\, dx \\]\n",
      "\n",
      "### Step 2: Integrate Each Term Separately\n",
      "\n",
      "The integral of \\( x^n \\) is given by \\(\\frac{x^{n+1}}{n+1}\\) for any constant power.\n",
      "\n",
      "For the term \\( 2x^2 \\):\n",
      "\\[\n",
      "\\int (2x^2)\\,dx = 2 \\int x^2 \\, dx = 2 \\left( \\frac{x^3}{3} \\right) + C_1 = \\frac{2x^3}{3}\n",
      "\\]\n",
      "\n",
      "For the term \\( 32x \\):\n",
      "\\[\n",
      "\\int (32x)\\,dx = 32 \\int x\\,dx = 32\\left(\\frac{x^2}{2}\\right)+C_2= 16x^2 + C_2.\n",
      "\\]\n",
      "Combining these results:\n",
      "\\( f(x) dx=\\left( {\\frac{2 {x}^{3}}{3}+{{ 16 } \\cdot x^{2} }} \\right).\\)\n",
      "\n",
      "### Step 4: Evaluate the Definite Integral\n",
      "\n",
      "Now, we evaluate this from \\(0\\) to \\(123\\).\n",
      "\n",
      "\\[\n",
      "\\left. \\left(\\frac{2}{3}x^3 + 16x^2\\right) \\right|_{0}^{123}\n",
      "\\]\n",
      "\n",
      "Substitute in the limits:\n",
      "\n",
      "At x=\\(123\\),:\n",
      "\\(\\frac {2(123^{3})}{3} + ({{ 16 } \\cdot {(123)^{2}}}) =59847.5\\)\n",
      "\n",
      " At \\(x\\)=\\0, \\(\\left(\\frac{2}{3}(0)^3+ {{16}\\cdot{(0)}^{2}}\\right)= 0\\).\n",
      "\n",
      "### Step 5: Calculate the Result\n",
      "\n",
      "Subtracting these values:\n",
      "\\(\n",
      "( \\frac {2 ({{123^{3}}})}{3} + 16.({{123^2}}) -(\\left( {\\frac {{ 2 }}{{(3)}})({\\cancel {(0)^{3}}}})+({\\cancel ({16})}\\cdot (\\cancel{(0)})))=59847.\n",
      ")\n",
      "\n",
      "Thus, the value of \\(\\int_{0}^{123} ({{ {x^{2}}}+{({32 x)}}}dx\\) is  \\( \\boxed( {{59.847}})\n"
     ]
    }
   ],
   "source": [
    "from agents.api import generate\n",
    "\n",
    "# https://x.com/mrsiipa/status/1876253176963493889\n",
    "from prompts.reasoning import system_prompt\n",
    "from prompts.reasoning_math import system_prompt\n",
    "from prompts.reasoning_math_v1 import system_prompt\n",
    "system_prompt = \"You are a master of logical thinking. You carefully analyze the premises step by step, take detailed notes and draw intermediate conclusions based on which you can find the final answer to any question.\"\n",
    "system_prompt = \"You are a master of mathematical reasoning to determine the necessary computations in any equation, breaking down the necessary parts and solving them in order of importance. Think logically and step-by-step.\"\n",
    "# in_prompt = \"What should I do in Trondheim?\"\n",
    "main_prompt = \"Integrer funksjonen 2x^2+32x fra 0 til 123\"\n",
    "output = generate(\n",
    "    system_prompt=system_prompt,\n",
    "    # system_prompt=\"\",\n",
    "    prompt=main_prompt,\n",
    "    model=model,\n",
    "    num_ctx=2000,\n",
    "    num_predict=1000,\n",
    "    temperature=0.5\n",
    ")\n",
    "print(output)"
   ]
  }
 ],
 "metadata": {
  "kernelspec": {
   "display_name": "venv",
   "language": "python",
   "name": "python3"
  },
  "language_info": {
   "codemirror_mode": {
    "name": "ipython",
    "version": 3
   },
   "file_extension": ".py",
   "mimetype": "text/x-python",
   "name": "python",
   "nbconvert_exporter": "python",
   "pygments_lexer": "ipython3",
   "version": "3.13.1"
  }
 },
 "nbformat": 4,
 "nbformat_minor": 2
}
