{
 "cells": [
  {
   "cell_type": "code",
   "execution_count": 2,
   "metadata": {},
   "outputs": [],
   "source": [
    "%load_ext autoreload\n",
    "%autoreload 2"
   ]
  },
  {
   "cell_type": "code",
   "execution_count": 3,
   "metadata": {},
   "outputs": [],
   "source": [
    "from models import load_model\n",
    "model = load_model(\"llama_3_2_3b\")"
   ]
  },
  {
   "cell_type": "code",
   "execution_count": 4,
   "metadata": {},
   "outputs": [
    {
     "name": "stdout",
     "output_type": "stream",
     "text": [
      "(esg OR environmental social governance) AND (data sources OR dataset)\n"
     ]
    }
   ],
   "source": [
    "from agents.search_agent import SearchAgent\n",
    "\n",
    "topic = \"ESG-based data for sentence-level classification\"\n",
    "search_string = SearchAgent(model, topic)()\n",
    "print(search_string)"
   ]
  },
  {
   "cell_type": "code",
   "execution_count": 5,
   "metadata": {},
   "outputs": [
    {
     "name": "stdout",
     "output_type": "stream",
     "text": [
      "fetched urls: ['https://www.dnb.com/content/dam/english/economic-and-industry-insight/DnB_eBook_A-Practical-Guide-to-ESG.pdf', 'https://www.spglobal.com/spdji/en/documents/additional-material/spdji-esg-metrics-reference-guide.pdf', 'https://edmcouncil.org/wp-content/uploads/2024/04/EDM-Council_Playbook_ESG-and-Sustainability-Data-Mgmt_April-2024.pdf']\n"
     ]
    }
   ],
   "source": [
    "from util import WebSearch\n",
    "from util import split_markdown\n",
    "import os\n",
    "from markitdown import MarkItDown\n",
    "\n",
    "md = MarkItDown()\n",
    "search = WebSearch()\n",
    "\n",
    "os.makedirs(\"tmp\", exist_ok=True)\n",
    "urls = search.get_urls(search_string)\n",
    "print(\"fetched urls:\", urls)"
   ]
  },
  {
   "cell_type": "code",
   "execution_count": 16,
   "metadata": {},
   "outputs": [
    {
     "name": "stdout",
     "output_type": "stream",
     "text": [
      "Failed to download https://www.spglobal.com/spdji/en/documents/additional-material/spdji-esg-metrics-reference-guide.pdf: 403 Client Error: Forbidden for url: https://www.spglobal.com/spdji/en/documents/additional-material/spdji-esg-metrics-reference-guide.pdf\n"
     ]
    }
   ],
   "source": [
    "import requests\n",
    "import shutil\n",
    "\n",
    "# https://phrasefix.com/tools/random-user-agent-generator/\n",
    "AGENT = \"Mozilla/5.0 (X11; Ubuntu; Linux x86_64; rv:97.0) Gecko/20100101 Firefox/97.0\"\n",
    "headers = {\"User-Agent\": AGENT}\n",
    "\n",
    "shutil.rmtree(\"tmp\", ignore_errors=True)\n",
    "os.makedirs(\"tmp\", exist_ok=True)\n",
    "\n",
    "for uid, url in enumerate(urls):\n",
    "    out_path = os.path.join(\"tmp\", f\"{uid}.pdf\")\n",
    "    try:\n",
    "        response = requests.get(url, headers=headers)\n",
    "        response.raise_for_status()  # Raise an error for bad status codes\n",
    "        with open(out_path, 'wb') as f:\n",
    "            f.write(response.content)\n",
    "    except requests.RequestException as e:\n",
    "        print(f\"Failed to download {url}: {e}\")\n"
   ]
  },
  {
   "cell_type": "code",
   "execution_count": 17,
   "metadata": {},
   "outputs": [
    {
     "data": {
      "application/vnd.jupyter.widget-view+json": {
       "model_id": "6363910d7f71400e84566ab035ed41e0",
       "version_major": 2,
       "version_minor": 0
      },
      "text/plain": [
       "Extracting markdown:   0%|          | 0/2 [00:00<?, ?it/s]"
      ]
     },
     "metadata": {},
     "output_type": "display_data"
    },
    {
     "name": "stderr",
     "output_type": "stream",
     "text": [
      "Data-loss while decompressing corrupted data\n",
      "Data-loss while decompressing corrupted data\n",
      "Data-loss while decompressing corrupted data\n",
      "Data-loss while decompressing corrupted data\n",
      "Data-loss while decompressing corrupted data\n",
      "Data-loss while decompressing corrupted data\n",
      "Data-loss while decompressing corrupted data\n",
      "Data-loss while decompressing corrupted data\n"
     ]
    }
   ],
   "source": [
    "split_markdown(\n",
    "    pdf_folder=\"tmp\",\n",
    "    out_folder=\"tmp-markdown\",\n",
    "    MAX_RESULTS=100,\n",
    ")"
   ]
  },
  {
   "cell_type": "code",
   "execution_count": 18,
   "metadata": {},
   "outputs": [
    {
     "data": {
      "application/vnd.jupyter.widget-view+json": {
       "model_id": "d0ab0a9e3da44628bbb8b772eb4cb857",
       "version_major": 2,
       "version_minor": 0
      },
      "text/plain": [
       "Processing URLs:   0%|          | 0/3 [00:00<?, ?it/s]"
      ]
     },
     "metadata": {},
     "output_type": "display_data"
    },
    {
     "data": {
      "application/vnd.jupyter.widget-view+json": {
       "model_id": "9794ef0946ec485c897c3e035602eb86",
       "version_major": 2,
       "version_minor": 0
      },
      "text/plain": [
       "Processing URL 0 (https://www.dnb.com/content/dam/english/economic-and-industry-insight/DnB_eBook_A-Practical-…"
      ]
     },
     "metadata": {},
     "output_type": "display_data"
    },
    {
     "data": {
      "application/vnd.jupyter.widget-view+json": {
       "model_id": "348bc5b0463a42069d44d085972c3ea4",
       "version_major": 2,
       "version_minor": 0
      },
      "text/plain": [
       "Processing URL 1 (https://www.spglobal.com/spdji/en/documents/additional-material/spdji-esg-metrics-reference-…"
      ]
     },
     "metadata": {},
     "output_type": "display_data"
    },
    {
     "data": {
      "application/vnd.jupyter.widget-view+json": {
       "model_id": "912308a3c777443598acfb0f563590ba",
       "version_major": 2,
       "version_minor": 0
      },
      "text/plain": [
       "Processing URL 2 (https://edmcouncil.org/wp-content/uploads/2024/04/EDM-Council_Playbook_ESG-and-Sustainabilit…"
      ]
     },
     "metadata": {},
     "output_type": "display_data"
    }
   ],
   "source": [
    "from typing import List\n",
    "from tqdm.notebook import tqdm\n",
    "from agents.dataset_agent import DatasetAgent\n",
    "\n",
    "language = \"English\"\n",
    "dataset_agent = DatasetAgent(model, topic, language)\n",
    "\n",
    "filtered_datasets = []\n",
    "\n",
    "outer_tqdm = tqdm(urls, desc=\"Processing...\", leave=False)\n",
    "for pdf_id, pdf in enumerate(outer_tqdm):\n",
    "    data_paths = sorted(os.listdir(\"tmp-markdown\"))\n",
    "    for data_path in tqdm(data_paths, desc=f\"Processing document {pdf_id} ({pdf})\"):\n",
    "        md_file = os.path.join(\"tmp-markdown\", data_path)\n",
    "        datasets = dataset_agent(markdown_file_path=md_file)\n",
    "        if not datasets:\n",
    "            continue\n",
    "        for dataset in datasets:\n",
    "            if dataset[\"relevant\"] == \"yes\":\n",
    "                filtered_datasets.append(dataset)"
   ]
  },
  {
   "cell_type": "code",
   "execution_count": 21,
   "metadata": {},
   "outputs": [
    {
     "name": "stdout",
     "output_type": "stream",
     "text": [
      "[{'label_name': 'Climate Change', 'description': 'Sentences related to climate change mitigation or adaptation efforts.', 'possible_values': ['climate_change', 'renewable_energy', 'carbon_emissions']}, {'label_name': 'Sustainability Practices', 'description': \"Sentences describing companies' sustainability practices, such as waste reduction or supply chain management.\", 'possible_values': ['sustainable_sourcing', 'waste_reduction', 'energy_efficiency']}, {'label_name': 'Social Responsibility', 'description': \"Sentences related to a company's social responsibility initiatives, including diversity and inclusion efforts.\", 'possible_values': ['diversity_and_inclusion', 'human_rights', 'community_development']}]\n"
     ]
    }
   ],
   "source": [
    "from typing import Literal\n",
    "from agents.labeler_agent import LabelerAgent\n",
    "\n",
    "generated_labels = LabelerAgent(\n",
    "    model,\n",
    "    topic=topic,\n",
    "    datasets=filtered_datasets,\n",
    "    num_labels=4,\n",
    ")()\n",
    "print(generated_labels)"
   ]
  },
  {
   "cell_type": "markdown",
   "metadata": {},
   "source": [
    "super hacky way to dynamically create pydantic schemas from the generated data from the `LabelerAgent`"
   ]
  },
  {
   "cell_type": "code",
   "execution_count": 22,
   "metadata": {},
   "outputs": [
    {
     "data": {
      "text/plain": [
       "{'properties': {'Climate_Change': {'description': 'Sentences related to climate change mitigation or adaptation efforts.',\n",
       "   'enum': ['climate_change', 'renewable_energy', 'carbon_emissions'],\n",
       "   'title': 'Climate Change',\n",
       "   'type': 'string'},\n",
       "  'Sustainability_Practices': {'description': \"Sentences describing companies' sustainability practices, such as waste reduction or supply chain management.\",\n",
       "   'enum': ['sustainable_sourcing', 'waste_reduction', 'energy_efficiency'],\n",
       "   'title': 'Sustainability Practices',\n",
       "   'type': 'string'},\n",
       "  'Social_Responsibility': {'description': \"Sentences related to a company's social responsibility initiatives, including diversity and inclusion efforts.\",\n",
       "   'enum': ['diversity_and_inclusion',\n",
       "    'human_rights',\n",
       "    'community_development'],\n",
       "   'title': 'Social Responsibility',\n",
       "   'type': 'string'}},\n",
       " 'required': ['Climate_Change',\n",
       "  'Sustainability_Practices',\n",
       "  'Social_Responsibility'],\n",
       " 'title': 'DynamicLabelModel',\n",
       " 'type': 'object'}"
      ]
     },
     "execution_count": 22,
     "metadata": {},
     "output_type": "execute_result"
    }
   ],
   "source": [
    "from pydantic import BaseModel, Field\n",
    "from typing import Dict, Any, List\n",
    "\n",
    "def dynamic_label_schema(labels: List[Dict[str, Any]]):\n",
    "    annotations = {}\n",
    "    field_definitions = {}\n",
    "\n",
    "    for label in labels:\n",
    "        # workaround for python identifiers\n",
    "        field_name = label[\"label_name\"].replace(\" \", \"_\")\n",
    "        # we don't know the type, so we use literals for the possible values (instead of str...)\n",
    "        field_type = Literal[tuple(label[\"possible_values\"])]\n",
    "        annotations[field_name] = field_type\n",
    "        field_definitions[field_name] = Field(..., description=label[\"description\"])\n",
    "\n",
    "    DynamicLabelModel: BaseModel = type(\n",
    "        \"DynamicLabelModel\",\n",
    "        (BaseModel,),\n",
    "        {\"__annotations__\": annotations, **field_definitions},\n",
    "    )\n",
    "    return DynamicLabelModel\n",
    "\n",
    "label_schema = dynamic_label_schema(generated_labels)\n",
    "label_schema.model_json_schema()"
   ]
  },
  {
   "cell_type": "code",
   "execution_count": 24,
   "metadata": {},
   "outputs": [
    {
     "data": {
      "text/plain": [
       "[{'text': 'Our company is committed to reducing greenhouse gas emissions by 50% within the next three years through a combination of energy-efficient upgrades and renewable energy investments.',\n",
       "  'labels': [{'Climate_Change': 'climate_change',\n",
       "    'Sustainability_Practices': 'energy_efficiency',\n",
       "    'Social_Responsibility': 'diversity_and_inclusion'}]},\n",
       " {'text': 'We have implemented various initiatives to promote sustainable sourcing, including partnering with suppliers who share our commitment to environmentally responsible practices.',\n",
       "  'labels': [{'Climate_Change': 'renewable_energy',\n",
       "    'Sustainability_Practices': 'sustainable_sourcing',\n",
       "    'Social_Responsibility': 'community_development'}]},\n",
       " {'text': 'By incorporating ESG-based data into their investment decisions, institutional investors can better align with long-term financial returns and contribute to a more sustainable future.',\n",
       "  'labels': [{'Climate_Change': 'climate_change',\n",
       "    'Sustainability_Practices': 'energy_efficiency',\n",
       "    'Social_Responsibility': 'human_rights'}]},\n",
       " {'text': 'The use of ESG-based data for sentence-level classification has shown promising results in identifying companies with strong sustainability practices and mitigating climate change risks.',\n",
       "  'labels': [{'Climate_Change': 'climate_change',\n",
       "    'Sustainability_Practices': 'waste_reduction',\n",
       "    'Social_Responsibility': 'diversity_and_inclusion'}]},\n",
       " {'text': 'As part of our corporate social responsibility strategy, we aim to increase diversity in the boardroom and ensure equal opportunities for all employees regardless of background or identity.',\n",
       "  'labels': [{'Climate_Change': 'climate_change',\n",
       "    'Sustainability_Practices': 'sustainable_sourcing',\n",
       "    'Social_Responsibility': 'diversity_and_inclusion'}]},\n",
       " {'text': 'Our company is committed to reducing carbon emissions by 30% within the next two years through a combination of energy-efficient upgrades and renewable energy investments in our supply chain.',\n",
       "  'labels': [{'Climate_Change': 'carbon_emissions',\n",
       "    'Sustainability_Practices': 'energy_efficiency',\n",
       "    'Social_Responsibility': 'community_development'}]},\n",
       " {'text': 'The growing demand for ESG-based data has led to the development of new technologies that can analyze large amounts of environmental, social, and governance-related information.',\n",
       "  'labels': [{'Climate_Change': 'climate_change',\n",
       "    'Sustainability_Practices': 'waste_reduction',\n",
       "    'Social_Responsibility': 'human_rights'}]},\n",
       " {'text': 'By investing in ESG-based data analytics solutions, companies can gain a competitive edge by identifying opportunities for sustainable growth and reducing climate change risks.',\n",
       "  'labels': [{'Climate_Change': 'climate_change',\n",
       "    'Sustainability_Practices': 'sustainable_sourcing',\n",
       "    'Social_Responsibility': 'diversity_and_inclusion'}]},\n",
       " {'text': 'Our sustainability strategy focuses on promoting environmentally responsible practices throughout our supply chain, including implementing energy-efficient technologies and reducing waste.',\n",
       "  'labels': [{'Climate_Change': 'climate_change',\n",
       "    'Sustainability_Practices': 'energy_efficiency',\n",
       "    'Social_Responsibility': 'community_development'}]},\n",
       " {'text': 'The integration of ESG-based data into business operations can lead to improved governance practices, reduced risk exposure, and increased long-term financial returns.',\n",
       "  'labels': [{'Climate_Change': 'climate_change',\n",
       "    'Sustainability_Practices': 'waste_reduction',\n",
       "    'Social_Responsibility': 'human_rights'}]},\n",
       " {'text': 'Our company has set ambitious targets for reducing greenhouse gas emissions by 80% within the next decade through a combination of renewable energy investments and sustainable sourcing practices.',\n",
       "  'labels': [{'Climate_Change': 'climate_change',\n",
       "    'Sustainability_Practices': 'sustainable_sourcing',\n",
       "    'Social_Responsibility': 'diversity_and_inclusion'}]}]"
      ]
     },
     "execution_count": 24,
     "metadata": {},
     "output_type": "execute_result"
    }
   ],
   "source": [
    "import pandas as pd\n",
    "from agents.dataset_generator_agent import DataGenerationAgent\n",
    "\n",
    "data_generation_agent = DataGenerationAgent(\n",
    "    model=model,\n",
    "    topic=topic,\n",
    "    label_schema=label_schema,\n",
    "    num_samples=10,\n",
    "    text_strategy=\"sentences\", # sentences | paragraphs | documents\n",
    ")\n",
    "\n",
    "generated = data_generation_agent()\n",
    "generated"
   ]
  },
  {
   "cell_type": "code",
   "execution_count": 25,
   "metadata": {},
   "outputs": [
    {
     "data": {
      "text/html": [
       "<div>\n",
       "<style scoped>\n",
       "    .dataframe tbody tr th:only-of-type {\n",
       "        vertical-align: middle;\n",
       "    }\n",
       "\n",
       "    .dataframe tbody tr th {\n",
       "        vertical-align: top;\n",
       "    }\n",
       "\n",
       "    .dataframe thead th {\n",
       "        text-align: right;\n",
       "    }\n",
       "</style>\n",
       "<table border=\"1\" class=\"dataframe\">\n",
       "  <thead>\n",
       "    <tr style=\"text-align: right;\">\n",
       "      <th></th>\n",
       "      <th>text</th>\n",
       "      <th>Climate_Change</th>\n",
       "      <th>Sustainability_Practices</th>\n",
       "      <th>Social_Responsibility</th>\n",
       "    </tr>\n",
       "  </thead>\n",
       "  <tbody>\n",
       "    <tr>\n",
       "      <th>0</th>\n",
       "      <td>Our company is committed to reducing greenhous...</td>\n",
       "      <td>climate_change</td>\n",
       "      <td>energy_efficiency</td>\n",
       "      <td>diversity_and_inclusion</td>\n",
       "    </tr>\n",
       "    <tr>\n",
       "      <th>1</th>\n",
       "      <td>We have implemented various initiatives to pro...</td>\n",
       "      <td>renewable_energy</td>\n",
       "      <td>sustainable_sourcing</td>\n",
       "      <td>community_development</td>\n",
       "    </tr>\n",
       "    <tr>\n",
       "      <th>2</th>\n",
       "      <td>By incorporating ESG-based data into their inv...</td>\n",
       "      <td>climate_change</td>\n",
       "      <td>energy_efficiency</td>\n",
       "      <td>human_rights</td>\n",
       "    </tr>\n",
       "    <tr>\n",
       "      <th>3</th>\n",
       "      <td>The use of ESG-based data for sentence-level c...</td>\n",
       "      <td>climate_change</td>\n",
       "      <td>waste_reduction</td>\n",
       "      <td>diversity_and_inclusion</td>\n",
       "    </tr>\n",
       "    <tr>\n",
       "      <th>4</th>\n",
       "      <td>As part of our corporate social responsibility...</td>\n",
       "      <td>climate_change</td>\n",
       "      <td>sustainable_sourcing</td>\n",
       "      <td>diversity_and_inclusion</td>\n",
       "    </tr>\n",
       "    <tr>\n",
       "      <th>5</th>\n",
       "      <td>Our company is committed to reducing carbon em...</td>\n",
       "      <td>carbon_emissions</td>\n",
       "      <td>energy_efficiency</td>\n",
       "      <td>community_development</td>\n",
       "    </tr>\n",
       "    <tr>\n",
       "      <th>6</th>\n",
       "      <td>The growing demand for ESG-based data has led ...</td>\n",
       "      <td>climate_change</td>\n",
       "      <td>waste_reduction</td>\n",
       "      <td>human_rights</td>\n",
       "    </tr>\n",
       "    <tr>\n",
       "      <th>7</th>\n",
       "      <td>By investing in ESG-based data analytics solut...</td>\n",
       "      <td>climate_change</td>\n",
       "      <td>sustainable_sourcing</td>\n",
       "      <td>diversity_and_inclusion</td>\n",
       "    </tr>\n",
       "    <tr>\n",
       "      <th>8</th>\n",
       "      <td>Our sustainability strategy focuses on promoti...</td>\n",
       "      <td>climate_change</td>\n",
       "      <td>energy_efficiency</td>\n",
       "      <td>community_development</td>\n",
       "    </tr>\n",
       "    <tr>\n",
       "      <th>9</th>\n",
       "      <td>The integration of ESG-based data into busines...</td>\n",
       "      <td>climate_change</td>\n",
       "      <td>waste_reduction</td>\n",
       "      <td>human_rights</td>\n",
       "    </tr>\n",
       "    <tr>\n",
       "      <th>10</th>\n",
       "      <td>Our company has set ambitious targets for redu...</td>\n",
       "      <td>climate_change</td>\n",
       "      <td>sustainable_sourcing</td>\n",
       "      <td>diversity_and_inclusion</td>\n",
       "    </tr>\n",
       "  </tbody>\n",
       "</table>\n",
       "</div>"
      ],
      "text/plain": [
       "                                                 text    Climate_Change  \\\n",
       "0   Our company is committed to reducing greenhous...    climate_change   \n",
       "1   We have implemented various initiatives to pro...  renewable_energy   \n",
       "2   By incorporating ESG-based data into their inv...    climate_change   \n",
       "3   The use of ESG-based data for sentence-level c...    climate_change   \n",
       "4   As part of our corporate social responsibility...    climate_change   \n",
       "5   Our company is committed to reducing carbon em...  carbon_emissions   \n",
       "6   The growing demand for ESG-based data has led ...    climate_change   \n",
       "7   By investing in ESG-based data analytics solut...    climate_change   \n",
       "8   Our sustainability strategy focuses on promoti...    climate_change   \n",
       "9   The integration of ESG-based data into busines...    climate_change   \n",
       "10  Our company has set ambitious targets for redu...    climate_change   \n",
       "\n",
       "   Sustainability_Practices    Social_Responsibility  \n",
       "0         energy_efficiency  diversity_and_inclusion  \n",
       "1      sustainable_sourcing    community_development  \n",
       "2         energy_efficiency             human_rights  \n",
       "3           waste_reduction  diversity_and_inclusion  \n",
       "4      sustainable_sourcing  diversity_and_inclusion  \n",
       "5         energy_efficiency    community_development  \n",
       "6           waste_reduction             human_rights  \n",
       "7      sustainable_sourcing  diversity_and_inclusion  \n",
       "8         energy_efficiency    community_development  \n",
       "9           waste_reduction             human_rights  \n",
       "10     sustainable_sourcing  diversity_and_inclusion  "
      ]
     },
     "execution_count": 25,
     "metadata": {},
     "output_type": "execute_result"
    }
   ],
   "source": [
    "columns = list(generated[0].keys()) + list(generated[0][\"labels\"][0].keys())\n",
    "columns.remove(\"labels\")\n",
    "data = []\n",
    "for sample in generated:\n",
    "    # print(sample)\n",
    "    for label in sample[\"labels\"]:\n",
    "        data.append({**sample, **label})\n",
    "df = pd.DataFrame(data, columns=columns)\n",
    "df"
   ]
  }
 ],
 "metadata": {
  "kernelspec": {
   "display_name": "venv",
   "language": "python",
   "name": "python3"
  },
  "language_info": {
   "codemirror_mode": {
    "name": "ipython",
    "version": 3
   },
   "file_extension": ".py",
   "mimetype": "text/x-python",
   "name": "python",
   "nbconvert_exporter": "python",
   "pygments_lexer": "ipython3",
   "version": "3.13.1"
  }
 },
 "nbformat": 4,
 "nbformat_minor": 2
}
