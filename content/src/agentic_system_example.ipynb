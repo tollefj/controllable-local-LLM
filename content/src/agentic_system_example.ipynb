{
 "cells": [
  {
   "cell_type": "code",
   "execution_count": 3,
   "metadata": {},
   "outputs": [],
   "source": [
    "%load_ext autoreload\n",
    "%autoreload 2"
   ]
  },
  {
   "cell_type": "code",
   "execution_count": 4,
   "metadata": {},
   "outputs": [],
   "source": [
    "from models import load_model\n",
    "model = load_model(\"llama_3_2_3b\")"
   ]
  },
  {
   "cell_type": "code",
   "execution_count": 5,
   "metadata": {},
   "outputs": [
    {
     "name": "stdout",
     "output_type": "stream",
     "text": [
      "(esg OR environmental social governance) AND (data sources OR dataset)\n"
     ]
    }
   ],
   "source": [
    "from agents.search_agent import SearchStringAgent\n",
    "\n",
    "# ESG is Environmental, Social, and Governance, terms for a set of criteria used to evaluate a company's operations, typically for investment purposes\n",
    "\n",
    "topic = \"ESG-based data for sentence-level classification\"\n",
    "search_string = SearchStringAgent(model, topic)()\n",
    "print(search_string)"
   ]
  },
  {
   "cell_type": "code",
   "execution_count": 6,
   "metadata": {},
   "outputs": [
    {
     "name": "stdout",
     "output_type": "stream",
     "text": [
      "fetched urls: ['https://www.esganalytics.io/insights/top-10-esg-data-providers', 'https://sustainablefinancedaily.com/sustainable-finance-insights/esg-data-and-analytics/10-free-esg-data-sources-and-scores/', 'https://www.pwc.com/us/en/services/esg/library/esg-data-collection-reporting.html']\n"
     ]
    }
   ],
   "source": [
    "from util import WebSearch\n",
    "from util import split_markdown\n",
    "import os\n",
    "from markitdown import MarkItDown\n",
    "\n",
    "md = MarkItDown()\n",
    "search = WebSearch()\n",
    "\n",
    "os.makedirs(\"tmp\", exist_ok=True)\n",
    "urls = search.get_urls(search_string)\n",
    "print(\"fetched urls:\", urls)"
   ]
  },
  {
   "cell_type": "code",
   "execution_count": 7,
   "metadata": {},
   "outputs": [],
   "source": [
    "import requests\n",
    "import shutil\n",
    "\n",
    "# https://phrasefix.com/tools/random-user-agent-generator/\n",
    "AGENT = \"Mozilla/5.0 (X11; Ubuntu; Linux x86_64; rv:97.0) Gecko/20100101 Firefox/97.0\"\n",
    "headers = {\"User-Agent\": AGENT}\n",
    "\n",
    "shutil.rmtree(\"tmp\", ignore_errors=True)\n",
    "os.makedirs(\"tmp\", exist_ok=True)\n",
    "\n",
    "for uid, url in enumerate(urls):\n",
    "    out_path = os.path.join(\"tmp\", f\"{uid}.pdf\")\n",
    "    try:\n",
    "        response = requests.get(url, headers=headers)\n",
    "        response.raise_for_status()  # Raise an error for bad status codes\n",
    "        with open(out_path, 'wb') as f:\n",
    "            f.write(response.content)\n",
    "    except requests.RequestException as e:\n",
    "        print(f\"Failed to download {url}: {e}\")\n"
   ]
  },
  {
   "cell_type": "code",
   "execution_count": 8,
   "metadata": {},
   "outputs": [
    {
     "data": {
      "application/vnd.jupyter.widget-view+json": {
       "model_id": "a1171810f1444e9e838ca347d7d709a5",
       "version_major": 2,
       "version_minor": 0
      },
      "text/plain": [
       "Extracting markdown:   0%|          | 0/3 [00:00<?, ?it/s]"
      ]
     },
     "metadata": {},
     "output_type": "display_data"
    },
    {
     "name": "stdout",
     "output_type": "stream",
     "text": [
      "Error converting 2.pdf\n"
     ]
    }
   ],
   "source": [
    "split_markdown(\n",
    "    pdf_folder=\"tmp\",\n",
    "    out_folder=\"tmp-markdown\",\n",
    "    MAX_RESULTS=100,\n",
    ")"
   ]
  },
  {
   "cell_type": "code",
   "execution_count": 9,
   "metadata": {},
   "outputs": [
    {
     "data": {
      "application/vnd.jupyter.widget-view+json": {
       "model_id": "131301b10d9d4953889f6b42d333d7aa",
       "version_major": 2,
       "version_minor": 0
      },
      "text/plain": [
       "Processing...:   0%|          | 0/3 [00:00<?, ?it/s]"
      ]
     },
     "metadata": {},
     "output_type": "display_data"
    },
    {
     "data": {
      "application/vnd.jupyter.widget-view+json": {
       "model_id": "e05895801c3242efa8a102e96f924875",
       "version_major": 2,
       "version_minor": 0
      },
      "text/plain": [
       "Processing document 0 (https://www.esganalytics.io/insights/top-10-esg-data-providers):   0%|          | 0/57 …"
      ]
     },
     "metadata": {},
     "output_type": "display_data"
    },
    {
     "name": "stderr",
     "output_type": "stream",
     "text": [
      "Failed to parse response: {\n",
      "  \"datasets\": [\n",
      "    {\n",
      "      \"name\": \"\",\n",
      "      \"language\": \"\",\n",
      "      \"labels\": [],\n",
      "      \"relevant\": \"no\"\n",
      "    },\n",
      "    {\n",
      "      \"name\": \"\",\n",
      "      \"language\": \"\",\n",
      "      \"labels\": [],\n",
      "      \"relevant\": \"yes\"\n",
      "    }\n",
      "  ]\n",
      "}\n",
      "  \n"
     ]
    },
    {
     "data": {
      "application/vnd.jupyter.widget-view+json": {
       "model_id": "0996d9ac1e9e484b89f488a5d8a0915c",
       "version_major": 2,
       "version_minor": 0
      },
      "text/plain": [
       "Processing document 1 (https://sustainablefinancedaily.com/sustainable-finance-insights/esg-data-and-analytics…"
      ]
     },
     "metadata": {},
     "output_type": "display_data"
    },
    {
     "name": "stderr",
     "output_type": "stream",
     "text": [
      "Failed to parse response: {\n",
      "  \"datasets\": [\n",
      "    {\n",
      "      \"name\": \"\",\n",
      "      \"language\": \"\",\n",
      "      \"labels\": [],\n",
      "      \"relevant\": \"no\"\n",
      "    },\n",
      "    {\n",
      "      \"name\": \"\",\n",
      "      \"language\": \"\",\n",
      "      \"labels\": [],\n",
      "      \"relevant\": \"yes\"\n",
      "    }\n",
      "  ]\n",
      "}\n",
      "  \n"
     ]
    },
    {
     "data": {
      "application/vnd.jupyter.widget-view+json": {
       "model_id": "1a8aca8ab7c04d8a86be860f411d184e",
       "version_major": 2,
       "version_minor": 0
      },
      "text/plain": [
       "Processing document 2 (https://www.pwc.com/us/en/services/esg/library/esg-data-collection-reporting.html):   0…"
      ]
     },
     "metadata": {},
     "output_type": "display_data"
    },
    {
     "name": "stderr",
     "output_type": "stream",
     "text": [
      "Failed to parse response: {\n",
      "  \"datasets\": [\n",
      "    {\n",
      "      \"name\": \"\",\n",
      "      \"language\": \"\",\n",
      "      \"labels\": [],\n",
      "      \"relevant\": \"no\"\n",
      "    },\n",
      "    {\n",
      "      \"name\": \"\",\n",
      "      \"language\": \"\",\n",
      "      \"labels\": [],\n",
      "      \"relevant\": \"yes\"\n",
      "    }\n",
      "  ]\n",
      "}\n",
      "  \n"
     ]
    }
   ],
   "source": [
    "from typing import List\n",
    "from tqdm.notebook import tqdm\n",
    "from agents.dataset_agent import DatasetAgent\n",
    "\n",
    "language = \"English\"\n",
    "dataset_agent = DatasetAgent(model, topic, language)\n",
    "\n",
    "filtered_datasets = []\n",
    "\n",
    "outer_tqdm = tqdm(urls, desc=\"Processing...\", leave=False)\n",
    "for pdf_id, pdf in enumerate(outer_tqdm):\n",
    "    data_paths = sorted(os.listdir(\"tmp-markdown\"))\n",
    "    for data_path in tqdm(data_paths, desc=f\"Processing document {pdf_id} ({pdf})\"):\n",
    "        md_file = os.path.join(\"tmp-markdown\", data_path)\n",
    "        datasets = dataset_agent(markdown_file_path=md_file)\n",
    "        if not datasets:\n",
    "            continue\n",
    "        for dataset in datasets:\n",
    "            if dataset[\"relevant\"] == \"yes\":\n",
    "                filtered_datasets.append(dataset)"
   ]
  },
  {
   "cell_type": "code",
   "execution_count": 10,
   "metadata": {},
   "outputs": [
    {
     "name": "stdout",
     "output_type": "stream",
     "text": [
      "[{'label_name': 'ESG Topic', 'description': 'Topic related to ESG (Environmental, Social, Governance) data.', 'possible_values': ['Relevant ESG News Article', 'Governance Practices']}, {'label_name': 'Sentiment Category', 'description': 'Category indicating the sentiment of an article towards ESG-related topics.', 'possible_values': ['Positive ESG Sentiment', 'Negative ESG Sentiment']}, {'label_name': 'Contextual Relationship', 'description': 'Relationship between a sentence and other sentences in terms of relevance to ESG data or contrast with non-ESG content.', 'possible_values': ['Relevant/In Relevant Non-EGS News Article', 'Entailment (positive)', 'Contrast']}]\n"
     ]
    }
   ],
   "source": [
    "from typing import Literal\n",
    "from agents.labeler_agent import LabelerAgent\n",
    "\n",
    "generated_labels = LabelerAgent(\n",
    "    model,\n",
    "    topic=topic,\n",
    "    datasets=filtered_datasets,\n",
    "    num_labels=3,\n",
    ")()\n",
    "print(generated_labels)"
   ]
  },
  {
   "cell_type": "markdown",
   "metadata": {},
   "source": [
    "### Dynamic class-schemas\n",
    "super hacky way to dynamically create pydantic schemas from the generated data from the `LabelerAgent`"
   ]
  },
  {
   "cell_type": "code",
   "execution_count": 11,
   "metadata": {},
   "outputs": [
    {
     "data": {
      "text/plain": [
       "{'properties': {'ESG_Topic': {'description': 'Topic related to ESG (Environmental, Social, Governance) data.',\n",
       "   'enum': ['Relevant ESG News Article', 'Governance Practices'],\n",
       "   'title': 'Esg Topic',\n",
       "   'type': 'string'},\n",
       "  'Sentiment_Category': {'description': 'Category indicating the sentiment of an article towards ESG-related topics.',\n",
       "   'enum': ['Positive ESG Sentiment', 'Negative ESG Sentiment'],\n",
       "   'title': 'Sentiment Category',\n",
       "   'type': 'string'},\n",
       "  'Contextual_Relationship': {'description': 'Relationship between a sentence and other sentences in terms of relevance to ESG data or contrast with non-ESG content.',\n",
       "   'enum': ['Relevant/In Relevant Non-EGS News Article',\n",
       "    'Entailment (positive)',\n",
       "    'Contrast'],\n",
       "   'title': 'Contextual Relationship',\n",
       "   'type': 'string'}},\n",
       " 'required': ['ESG_Topic', 'Sentiment_Category', 'Contextual_Relationship'],\n",
       " 'title': 'DynamicLabelModel',\n",
       " 'type': 'object'}"
      ]
     },
     "execution_count": 11,
     "metadata": {},
     "output_type": "execute_result"
    }
   ],
   "source": [
    "from pydantic import BaseModel, Field\n",
    "from typing import Dict, Any, List\n",
    "\n",
    "def dynamic_label_schema(labels: List[Dict[str, Any]]):\n",
    "    annotations = {}\n",
    "    field_definitions = {}\n",
    "\n",
    "    for label in labels:\n",
    "        # workaround for python identifiers\n",
    "        field_name = label[\"label_name\"].replace(\" \", \"_\")\n",
    "        # we don't know the type, so we use literals for the possible values (instead of str...)\n",
    "        field_type = Literal[tuple(label[\"possible_values\"])]\n",
    "        annotations[field_name] = field_type\n",
    "        field_definitions[field_name] = Field(..., description=label[\"description\"])\n",
    "\n",
    "    DynamicLabelModel: BaseModel = type(\n",
    "        \"DynamicLabelModel\",\n",
    "        (BaseModel,),\n",
    "        {\"__annotations__\": annotations, **field_definitions},\n",
    "    )\n",
    "    return DynamicLabelModel\n",
    "\n",
    "label_schema = dynamic_label_schema(generated_labels)\n",
    "label_schema.model_json_schema()"
   ]
  },
  {
   "cell_type": "code",
   "execution_count": 12,
   "metadata": {},
   "outputs": [
    {
     "data": {
      "text/plain": [
       "[{'text': 'While the Sönchez Foundation prioritizes climate action for its own sustainability initiatives, it has faced criticism from environmental groups over \\ud83d\\udd0a recent land acquisition that may have implications on local biodiversity.',\n",
       "  'labels': [{'ESG_Topic': 'Relevant ESG News Article',\n",
       "    'Sentiment_Category': 'Negative ESG Sentiment',\n",
       "    'Contextual_Relationship': 'Contrast'}]}]"
      ]
     },
     "execution_count": 12,
     "metadata": {},
     "output_type": "execute_result"
    }
   ],
   "source": [
    "import pandas as pd\n",
    "from agents.dataset_generator_agent import DataGenerationAgent\n",
    "\n",
    "data_generation_agent = DataGenerationAgent(\n",
    "    model=model,\n",
    "    topic=topic,\n",
    "    label_schema=label_schema,\n",
    "    num_samples=1,\n",
    "    text_strategy=\"sentences\", # sentences | paragraphs | documents\n",
    ")\n",
    "\n",
    "generated = data_generation_agent()\n",
    "generated"
   ]
  },
  {
   "cell_type": "code",
   "execution_count": 13,
   "metadata": {},
   "outputs": [
    {
     "data": {
      "text/html": [
       "<div>\n",
       "<style scoped>\n",
       "    .dataframe tbody tr th:only-of-type {\n",
       "        vertical-align: middle;\n",
       "    }\n",
       "\n",
       "    .dataframe tbody tr th {\n",
       "        vertical-align: top;\n",
       "    }\n",
       "\n",
       "    .dataframe thead th {\n",
       "        text-align: right;\n",
       "    }\n",
       "</style>\n",
       "<table border=\"1\" class=\"dataframe\">\n",
       "  <thead>\n",
       "    <tr style=\"text-align: right;\">\n",
       "      <th></th>\n",
       "      <th>text</th>\n",
       "      <th>ESG_Topic</th>\n",
       "      <th>Sentiment_Category</th>\n",
       "      <th>Contextual_Relationship</th>\n",
       "    </tr>\n",
       "  </thead>\n",
       "  <tbody>\n",
       "    <tr>\n",
       "      <th>0</th>\n",
       "      <td>While the Sönchez Foundation prioritizes clima...</td>\n",
       "      <td>Relevant ESG News Article</td>\n",
       "      <td>Negative ESG Sentiment</td>\n",
       "      <td>Contrast</td>\n",
       "    </tr>\n",
       "  </tbody>\n",
       "</table>\n",
       "</div>"
      ],
      "text/plain": [
       "                                                text  \\\n",
       "0  While the Sönchez Foundation prioritizes clima...   \n",
       "\n",
       "                   ESG_Topic      Sentiment_Category Contextual_Relationship  \n",
       "0  Relevant ESG News Article  Negative ESG Sentiment                Contrast  "
      ]
     },
     "execution_count": 13,
     "metadata": {},
     "output_type": "execute_result"
    }
   ],
   "source": [
    "columns = list(generated[0].keys()) + list(generated[0][\"labels\"][0].keys())\n",
    "columns.remove(\"labels\")\n",
    "data = []\n",
    "for sample in generated:\n",
    "    # print(sample)\n",
    "    for label in sample[\"labels\"]:\n",
    "        data.append({**sample, **label})\n",
    "df = pd.DataFrame(data, columns=columns)\n",
    "df"
   ]
  }
 ],
 "metadata": {
  "kernelspec": {
   "display_name": "venv",
   "language": "python",
   "name": "python3"
  },
  "language_info": {
   "codemirror_mode": {
    "name": "ipython",
    "version": 3
   },
   "file_extension": ".py",
   "mimetype": "text/x-python",
   "name": "python",
   "nbconvert_exporter": "python",
   "pygments_lexer": "ipython3",
   "version": "3.13.1"
  }
 },
 "nbformat": 4,
 "nbformat_minor": 2
}
