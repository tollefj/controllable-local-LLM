{
 "cells": [
  {
   "cell_type": "code",
   "execution_count": 1,
   "metadata": {},
   "outputs": [],
   "source": [
    "%load_ext autoreload\n",
    "%autoreload 2\n",
    "from models import load_model\n",
    "model = load_model(\"llama_3_2_3b\")"
   ]
  },
  {
   "cell_type": "code",
   "execution_count": 136,
   "metadata": {},
   "outputs": [
    {
     "name": "stdout",
     "output_type": "stream",
     "text": [
      "Trondheim is a beautiful city located on the west coast of Norway, known for its rich history, stunning architecture, and vibrant cultural scene. Here are some top things to see and do when visiting Trondheim:\n",
      "\n",
      "**Must-see attractions:**\n",
      "\n",
      "1. **Nidaros Cathedral**: A magnificent Gothic cathedral built in 1130 over St Olav's grave.\n",
      "2. **Old Town (Gamle Byen)**: Explore the charming streets, shops, and restaurants of this historic neighborhood.\n",
      "3. **Trondheimsbrua Bridge**: Take a walk across Europe's longest pedestrian bridge for stunning views of the city.\n",
      "\n",
      "**Outdoor activities:**\n",
      "\n",
      "1. **Rafting or kayaking on Nidelva River**: Experience Norway's beautiful nature by paddling down one of Trondheim's most iconic rivers.\n",
      "2. **Hiking in nearby forests and mountains**: Discover scenic trails, waterfalls, and picturesque villages just outside the city center.\n",
      "\n",
      "**Museums:**\n",
      "\n",
      "1. **Trondheims Museum (Nidarosmuseum)**: Learn about Trondheim's history from prehistoric times to modern days at this comprehensive museum.\n",
      "2. **Arctic University of Norway**: Visit one of Europe's leading research institutions and explore their exhibitions on Arctic science, culture, and technology.\n",
      "\n",
      "**Cultural events:**\n",
      "\n",
      "1. **Trondheimsfestivalen (Music Festival)**: Enjoy live music performances by local artists during the summer months.\n",
      "2. **Nidaros Cathedral Concerts**: Attend a concert or recital at this stunning cathedral with its unique acoustics.\n",
      "\n",
      "**Food and drink:**\n",
      "\n",
      "1. **Try traditional Norwegian cuisine**, such as seafood, waffles, brown cheese (brunost), and aquavit-infused dishes.\n",
      "2. **Visit the Trondheim Market Hall (Marketsenteret)** for fresh produce, local specialties, and craft beer from nearby breweries.\n",
      "\n",
      "Other tips:\n",
      "\n",
      "* Take a stroll along the picturesque river Nidelva or visit one of its many parks and gardens.\n",
      "* Visit the charming neighborhood of Lerkendalstaden with its unique architecture and lively atmosphere.\n",
      "* Explore Trondheim's vibrant nightlife scene by visiting bars, clubs, and live music venues in Old Town.\n",
      "\n",
      "Trondheim is also a great base for exploring Norway's stunning natural beauty. Consider taking day trips to nearby destinations like:\n",
      "\n",
      "1. **Trollveggen**: A scenic hiking trail with breathtaking views of the surrounding mountains.\n",
      "2. **Sunnmøra Beach**: Enjoy sunbathing, swimming, and water sports on this beautiful beach.\n",
      "\n",
      "With so much to see and do in Trondheim, you're sure to have an unforgettable experience!\n"
     ]
    }
   ],
   "source": [
    "from agents.api import generate\n",
    "\n",
    "main_prompt = \"What should I do in Trondheim?\"\n",
    "\n",
    "output = generate(\n",
    "    system_prompt=\"\",\n",
    "    prompt=main_prompt,\n",
    "    model=model,\n",
    ")\n",
    "print(output)"
   ]
  },
  {
   "cell_type": "markdown",
   "metadata": {},
   "source": [
    "## Give access to tools...\n",
    "We want to break down a query like this into three:\n",
    "- Python interpreter: what date is it? (datetime lib)\n",
    "- Weather API: what is the weather at *place* on *date*?\n",
    "- Search agent: what are recommended activities at *place* on *date* in *weather*?\n"
   ]
  },
  {
   "cell_type": "code",
   "execution_count": 138,
   "metadata": {},
   "outputs": [
    {
     "name": "stdout",
     "output_type": "stream",
     "text": [
      "February\n",
      "rainy\n"
     ]
    }
   ],
   "source": [
    "import datetime\n",
    "import requests\n",
    "\n",
    "def get_month():\n",
    "    return datetime.datetime.now().strftime(\"%B\")\n",
    "\n",
    "print(get_month())\n",
    "\n",
    "\n",
    "def get_weather(city):\n",
    "    response = requests.get(f\"http://wttr.in/{city}?format=%C\")\n",
    "    weather = \"\"\n",
    "    if response.status_code == 200:\n",
    "        weather = response.text.strip()\n",
    "    else:\n",
    "        return None\n",
    "\n",
    "    class Weather(BaseModel):\n",
    "        weather: str\n",
    "\n",
    "    # here we do an LLM call to simplify the weather description\n",
    "    human_weather = generate(\n",
    "        system_prompt=\"\",\n",
    "        prompt=f\"From the description of the weather conditions: '{weather}', rephrase it in very simple terms, e.g. rainy, cloudy, sunny, etc. Output in JSON.\",\n",
    "        schema=Weather.model_json_schema(),\n",
    "        model=model,\n",
    "        num_ctx=200,\n",
    "        num_predict=100,\n",
    "        temperature=0.0,\n",
    "    )[\"weather\"]\n",
    "    return human_weather\n",
    "    \n",
    "print(get_weather(\"Trondheim\"))"
   ]
  },
  {
   "cell_type": "code",
   "execution_count": 139,
   "metadata": {},
   "outputs": [
    {
     "name": "stdout",
     "output_type": "stream",
     "text": [
      "What to do in Trondheim in February when it is rainy?\n"
     ]
    }
   ],
   "source": [
    "from util import WebSearch, get_html\n",
    "from markitdown import MarkItDown\n",
    "\n",
    "search = WebSearch()\n",
    "md = MarkItDown()\n",
    "\n",
    "def search(city: str, month: str, weather: str):\n",
    "    query = f\"What to do in {city} in {month} when it is {weather}?\"\n",
    "    print(query)\n",
    "    urls = WebSearch().get_urls(query, max_results=1)\n",
    "    soup = get_html(urls[0])\n",
    "    with open(\"tmp.html\", \"w\") as f:\n",
    "        f.write(str(soup))\n",
    "    result = md.convert(\"tmp.html\")\n",
    "    with open(\"tmp.md\", \"w\") as f:\n",
    "        f.write(result.text_content)\n",
    "    return {\n",
    "        \"markdown\": result.text_content,\n",
    "        \"query\": query,\n",
    "    }\n",
    "    \n",
    "result = search(place, get_month(), get_weather(place))"
   ]
  },
  {
   "cell_type": "code",
   "execution_count": 163,
   "metadata": {},
   "outputs": [
    {
     "data": {
      "application/vnd.jupyter.widget-view+json": {
       "model_id": "47c91fe6a1b242d49194cd3a3c90041c",
       "version_major": 2,
       "version_minor": 0
      },
      "text/plain": [
       "Processing results:   0%|          | 0/29 [00:00<?, ?it/s]"
      ]
     },
     "metadata": {},
     "output_type": "display_data"
    }
   ],
   "source": [
    "from tqdm.notebook import tqdm  \n",
    "def scan_results(result: str, query: str):\n",
    "    hashed_results = result.split(\"\\n#\")\n",
    "    hashed_results = [\n",
    "        h.strip() for h in hashed_results if len(h.strip().split(\"\\n\")) > 1\n",
    "    ]\n",
    "\n",
    "    sys_prompt = f\"You are an AI assistant tasked to best answer the user's query '{query}' based on the contents of the message. Perform an extractive retrieval and summarize the content before deciding whether it is related to the query (represented with relevant score on a scale of 0 to 10). The final answer should be a well-formed sentence capturing the essence of the text. If it is not relevant, the relevant score should be 0. Output in JSON\"\n",
    "\n",
    "    class QueryAnswer(BaseModel):\n",
    "        relevant: int\n",
    "        summary: str\n",
    "        answer: str\n",
    "\n",
    "    relevant_answers = []\n",
    "\n",
    "    iterator = tqdm(hashed_results, desc=\"Processing results\")\n",
    "    for h in iterator:\n",
    "        prompt = f\"The content:\\n{h}\"\n",
    "        output = generate(\n",
    "            system_prompt=sys_prompt,\n",
    "            prompt=prompt,\n",
    "            schema=QueryAnswer.model_json_schema(),\n",
    "            model=model,\n",
    "            num_ctx=5000,\n",
    "            num_predict=1000,\n",
    "            temperature=0.0,\n",
    "        )\n",
    "        if not output:\n",
    "            continue\n",
    "        if output[\"relevant\"] > 0:\n",
    "            relevant_answers.append(output[\"answer\"])\n",
    "    \n",
    "    return relevant_answers\n",
    "    \n",
    "final_results = scan_results(result[\"markdown\"], result[\"query\"])"
   ]
  },
  {
   "cell_type": "code",
   "execution_count": 164,
   "metadata": {},
   "outputs": [
    {
     "data": {
      "text/plain": [
       "['In February, visiting Trondheim offers numerous indoor attractions like museums (e.g., Ringve Museum), cathedrals (Nidaros Cathedral) that can be explored on rainy days.',\n",
       " 'To make the most of your time in Trondheim in rainy February, consider using a trip planning app like Wanderlog to discover local experiences, stay informed about holiday events, dress accordingly for the wet weather, explore top attractions, and get insider tips from fellow travelers.',\n",
       " 'Consider visiting the unique Ringve Museum in Trondheim during your trip for a fascinating experience exploring music and cultural heritage.',\n",
       " 'When visiting Trondheim in February with rainy weather, consider exploring the stunning Nidaros Cathedral.',\n",
       " \"Consider taking a scenic drive along the Golden Route to experience the natural beauty of Trondheim's countryside despite the rainy weather.\",\n",
       " 'Consider ice fishing on the Trondheim Fjord in February to enjoy tranquil surroundings and stunning views.',\n",
       " \"For an engaging experience in rainy February weather, consider taking a guided tour of the historic streets of Trondheim's city center to gain deeper understanding.\",\n",
       " \"A great place to visit the Trondheim Science Museum in February when it's rainy.\",\n",
       " \"In Trondheim during a rainy February with no local events or festivals to attend, consider exploring the city's indoor attractions such as museums and galleries.\",\n",
       " \"In February, visiting Trondheim can be quite chilly with average highs of 29°F (-1°C), while it's still possible to explore indoor attractions on rainy days.\",\n",
       " 'In Trondheim during rainy days in February, dressing warm with essential items such as thick winter coat and gloves would be advisable due to the freezing temperatures and low daylight hours.',\n",
       " 'In Trondheim during a chilly February day, expect temperatures ranging from just above freezing to below zero degrees Celsius.']"
      ]
     },
     "execution_count": 164,
     "metadata": {},
     "output_type": "execute_result"
    }
   ],
   "source": [
    "final_results"
   ]
  },
  {
   "cell_type": "code",
   "execution_count": 176,
   "metadata": {},
   "outputs": [
    {
     "name": "stdout",
     "output_type": "stream",
     "text": [
      "- Visit museums\n",
      "- Use a trip planning app\n",
      "- Explore top attractions\n",
      "- Dress for the weather\n",
      "- Consider unique places like Ringve Museum\n",
      "- Enjoy ice fishing on Trondheim Fjord\n",
      "- Take guided tours of historic city center streets\n",
      "- Visit indoor science museum\n",
      "- Other indoor activities when no events\n"
     ]
    }
   ],
   "source": [
    "from typing import List\n",
    "\n",
    "def generate_summary(final_results: List[str], query: str):\n",
    "    system_prompt = \"You are an AI assistant designed to create step-wise summary of the information provided. Output in JSON.\"\n",
    "    final_summary_prompt = f\"For each element in the information, create a slightly shorter summary, based on the contents of the query '{query}'\\nInformation:\\n{'\\n'.join(final_results)}\"\n",
    "\n",
    "    class Summary(BaseModel):\n",
    "        fulltext: str\n",
    "        summary: List[str]\n",
    "\n",
    "    output = generate(\n",
    "        system_prompt=system_prompt,\n",
    "        prompt=final_summary_prompt,\n",
    "        model=model,\n",
    "        schema=Summary.model_json_schema(),\n",
    "        num_ctx=5000,\n",
    "        num_predict=1000,\n",
    "        temperature=0.0,\n",
    "    )\n",
    "    if output:\n",
    "        return output[\"summary\"]\n",
    "    return []\n",
    "\n",
    "output = generate_summary(final_results, result[\"query\"])\n",
    "for s in output:\n",
    "    print(f\"- {s}\")"
   ]
  },
  {
   "cell_type": "code",
   "execution_count": 177,
   "metadata": {},
   "outputs": [
    {
     "name": "stdout",
     "output_type": "stream",
     "text": [
      "What to do in Trondheim in February when it is rainy?\n"
     ]
    },
    {
     "data": {
      "application/vnd.jupyter.widget-view+json": {
       "model_id": "7bcaa25fdf70464893d5f115e55060fa",
       "version_major": 2,
       "version_minor": 0
      },
      "text/plain": [
       "Processing results:   0%|          | 0/29 [00:00<?, ?it/s]"
      ]
     },
     "metadata": {},
     "output_type": "display_data"
    },
    {
     "name": "stdout",
     "output_type": "stream",
     "text": [
      "['Visit Ringve Museum', 'Explore Nidaros Cathedral', 'Drive Golden Route', 'Ice fish on Fjord', 'Guided city tour', 'Trondheim Science Museum visit']\n"
     ]
    }
   ],
   "source": [
    "def full_search_pipeline(prompt: str):\n",
    "    place = identify_place(prompt)\n",
    "    month = get_month()\n",
    "    weather = get_weather(place)\n",
    "    result = search(place, month, weather)\n",
    "    filtered_results = scan_results(result[\"markdown\"], result[\"query\"])\n",
    "    output = generate_summary(filtered_results, result[\"query\"])\n",
    "    return output\n",
    "\n",
    "print(full_search_pipeline(\"i'm in trondheim for a few days, what should I do?\"))"
   ]
  },
  {
   "cell_type": "code",
   "execution_count": 203,
   "metadata": {},
   "outputs": [
    {
     "data": {
      "text/plain": [
       "{'next_fn': {'function': 'get_month', 'parameters': {}}, 'is_complete': 0}"
      ]
     },
     "execution_count": 203,
     "metadata": {},
     "output_type": "execute_result"
    }
   ],
   "source": [
    "from pydantic import Field\n",
    "import time\n",
    "from typing import Literal\n",
    "\n",
    "\n",
    "sys_prompt = \"\"\"\n",
    "You are an AI assistant designed to think deeply and reason about the step-by-step process from the user's input, to create a logical separation for calling appropriate functions. Do not make assumptions, do not go beyond your given instructions and scope.\n",
    "\n",
    "Your current database has the following information:\n",
    "{current_memory}\n",
    "\n",
    "You have access to the following functions IN SEQUENTIAL ORDER.\n",
    "1. get_month() -> name of month\n",
    "2. get_weather(city) -> weather forecast of today\n",
    "3. search(city, month, weather) -> what to do in *city* in *month* when the weather is *weather*\n",
    "\n",
    "Identify the current state of called functions, and toggle the appropriate flag to indicate completion.\n",
    "Which function should be called next, based on the current status of the database? Respond with the function name and the parameters, along with an integer flag to indicate if the database is fully populated.\n",
    "Output in JSON format.\n",
    "\"\"\"\n",
    "\n",
    "\n",
    "class NextFunction(BaseModel):\n",
    "    function: Literal[\"get_month\", \"get_weather\", \"search\"]\n",
    "    parameters: dict = Field(default_factory=dict)\n",
    "\n",
    "\n",
    "class FunctionSelector(BaseModel):\n",
    "    next_fn: NextFunction\n",
    "    is_complete: int = 0\n",
    "\n",
    "current_memory = {\"month\": None, \"weather\": None, \"search\": None}\n",
    "main_prompt = \"What should I do in Trondheim?\"\n",
    "\n",
    "output = generate(\n",
    "    system_prompt=sys_prompt.format(current_memory=current_memory),\n",
    "    prompt=main_prompt,\n",
    "    model=model,\n",
    "    schema=FunctionSelector.model_json_schema(),\n",
    "    num_ctx=300,\n",
    "    num_predict=100,\n",
    "    temperature=0.0, \n",
    ")\n",
    "output"
   ]
  },
  {
   "cell_type": "code",
   "execution_count": 213,
   "metadata": {},
   "outputs": [
    {
     "name": "stdout",
     "output_type": "stream",
     "text": [
      "Calling function: get_month with parameters: {}\n",
      "Next memory: {'month': 'February', 'weather': None, 'search': None}\n",
      "February\n",
      "Calling function: get_weather with parameters: {'city': 'Trondheim'}\n",
      "Next memory: {'month': 'February', 'weather': 'rainy', 'search': None}\n",
      "rainy\n",
      "Calling function: search with parameters: {'city': 'Trondheim', 'month': 'February', 'weather': 'get_weather(Trondheim)'}\n",
      "What to do in Trondheim in February when it is get_weather(Trondheim)?\n"
     ]
    },
    {
     "data": {
      "application/vnd.jupyter.widget-view+json": {
       "model_id": "ea5ff1c15d2a4d97ab0fccb738a97406",
       "version_major": 2,
       "version_minor": 0
      },
      "text/plain": [
       "Processing results:   0%|          | 0/29 [00:00<?, ?it/s]"
      ]
     },
     "metadata": {},
     "output_type": "display_data"
    },
    {
     "data": {
      "text/plain": [
       "['Visit museums',\n",
       " 'Use a trip planning app',\n",
       " 'Explore top attractions',\n",
       " 'Dress for the weather',\n",
       " 'Consider unique places like Ringve Museum',\n",
       " 'Enjoy ice fishing on Trondheim Fjord',\n",
       " 'Take guided tours of historic city center streets',\n",
       " 'Visit indoor science museum',\n",
       " 'Other indoor activities when no events']"
      ]
     },
     "execution_count": 213,
     "metadata": {},
     "output_type": "execute_result"
    }
   ],
   "source": [
    "is_complete = False\n",
    "current_memory = {\"month\": None, \"weather\": None, \"search\": None}\n",
    "memory_map = {\n",
    "    \"get_month\": \"month\",\n",
    "    \"get_weather\": \"weather\",\n",
    "    \"search\": \"search\",\n",
    "}\n",
    "fn_map = {\n",
    "    \"get_month\": get_month,\n",
    "    \"get_weather\": get_weather,\n",
    "    \"search\": search,\n",
    "}\n",
    "\n",
    "def tool_search(prompt: str):\n",
    "    res = None\n",
    "    while True:\n",
    "        tmp = generate(\n",
    "            system_prompt=sys_prompt.format(current_memory=current_memory),\n",
    "            prompt=prompt,\n",
    "            model=model,\n",
    "            schema=FunctionSelector.model_json_schema(),\n",
    "            num_ctx=300,\n",
    "            num_predict=100,\n",
    "            temperature=0.0,\n",
    "        )\n",
    "        next_fn = tmp[\"next_fn\"]\n",
    "        print(f\"Calling function: {next_fn['function']} with parameters: {next_fn['parameters']}\")\n",
    "        res = fn_map[next_fn[\"function\"]](**next_fn[\"parameters\"])\n",
    "        current_memory[memory_map[next_fn[\"function\"]]] = res\n",
    "        if next_fn[\"function\"] == \"search\":\n",
    "            break\n",
    "        print(f\"Next memory: {current_memory}\")\n",
    "        print(res)\n",
    "    \n",
    "    \n",
    "    filtered_results = scan_results(result[\"markdown\"], result[\"query\"])\n",
    "    output = generate_summary(filtered_results, result[\"query\"])\n",
    "    return output\n",
    "\n",
    "tool_search(\"What should I do in Trondheim?\")"
   ]
  }
 ],
 "metadata": {
  "kernelspec": {
   "display_name": "venv",
   "language": "python",
   "name": "python3"
  },
  "language_info": {
   "codemirror_mode": {
    "name": "ipython",
    "version": 3
   },
   "file_extension": ".py",
   "mimetype": "text/x-python",
   "name": "python",
   "nbconvert_exporter": "python",
   "pygments_lexer": "ipython3",
   "version": "3.13.1"
  }
 },
 "nbformat": 4,
 "nbformat_minor": 2
}
